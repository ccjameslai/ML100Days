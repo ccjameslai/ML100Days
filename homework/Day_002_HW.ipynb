{
  "nbformat": 4,
  "nbformat_minor": 0,
  "metadata": {
    "kernelspec": {
      "display_name": "Python 3",
      "language": "python",
      "name": "python3"
    },
    "language_info": {
      "codemirror_mode": {
        "name": "ipython",
        "version": 3
      },
      "file_extension": ".py",
      "mimetype": "text/x-python",
      "name": "python",
      "nbconvert_exporter": "python",
      "pygments_lexer": "ipython3",
      "version": "3.6.6"
    },
    "colab": {
      "name": "Day_002_HW.ipynb",
      "provenance": []
    }
  },
  "cells": [
    {
      "cell_type": "markdown",
      "metadata": {
        "id": "TruUMlHooUr5"
      },
      "source": [
        "## [作業目標]\n",
        "了解機器學習適合應用的領域與範疇。"
      ]
    },
    {
      "cell_type": "markdown",
      "metadata": {
        "id": "JEUkW_K_oUsC"
      },
      "source": [
        "## [作業重點]\n",
        "透過瞭解機器學習的運作方式，找出非常適用機器學習應用的領域及其原因"
      ]
    },
    {
      "cell_type": "markdown",
      "metadata": {
        "id": "5O3elpCUoUsD"
      },
      "source": [
        "## 作業\n",
        "請找出一個你認為機器學習可以發光發熱的領域並闡述原因? "
      ]
    },
    {
      "cell_type": "code",
      "metadata": {
        "id": "guuf9wewoUsD"
      },
      "source": [
        "   "
      ],
      "execution_count": null,
      "outputs": []
    },
    {
      "cell_type": "markdown",
      "metadata": {
        "id": "QuaE2V8DosT-"
      },
      "source": [
        "機器學習對於機器人領域有相當大的影響，無論是視覺、聽覺、語言，甚至是認知系統，都非常仰賴機器學習的演算法。從資料中找到規則，是最主要的概念，因為我們無法窮舉所以的規則，而且也不可能做到。機器人可以透過自己的感測器去收集各面向的資料，如影像、音訊、溫度等，並從這些資料中以機器學習的方法找出規律，以此作為獲取知識的方法，就如人類一樣，從觀察學習和人際互動來學到知識。"
      ]
    },
    {
      "cell_type": "code",
      "metadata": {
        "id": "QgqepET7rNKu"
      },
      "source": [
        ""
      ],
      "execution_count": null,
      "outputs": []
    }
  ]
}