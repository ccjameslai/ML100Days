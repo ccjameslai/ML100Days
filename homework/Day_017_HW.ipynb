{
  "nbformat": 4,
  "nbformat_minor": 0,
  "metadata": {
    "kernelspec": {
      "display_name": "Python 3",
      "language": "python",
      "name": "python3"
    },
    "language_info": {
      "codemirror_mode": {
        "name": "ipython",
        "version": 3
      },
      "file_extension": ".py",
      "mimetype": "text/x-python",
      "name": "python",
      "nbconvert_exporter": "python",
      "pygments_lexer": "ipython3",
      "version": "3.7.0"
    },
    "colab": {
      "name": "Day_017_HW.ipynb",
      "provenance": [],
      "toc_visible": true
    }
  },
  "cells": [
    {
      "cell_type": "markdown",
      "metadata": {
        "id": "XnVB2unRfn93"
      },
      "source": [
        "# 作業\n",
        "- 新增一個欄位 `customized_age_grp`，把 `age` 分為 (0, 10], (10, 20], (20, 30], (30, 50], (50, 100] 這五組，\n",
        "'(' 表示不包含, ']' 表示包含  \n",
        "- Hints: 執行 ??pd.cut()，了解提供其中 bins 這個參數的使用方式"
      ]
    },
    {
      "cell_type": "markdown",
      "metadata": {
        "id": "DX512taifn96"
      },
      "source": [
        "# [作業目標]\n",
        "- 請同學試著查詢 pandas.cut 這個函數還有哪些參數, 藉由改動參數以達成目標\n",
        "- 藉由查詢與改動參數的過程, 熟悉查詢函數的方法與理解參數性質, 並了解數值的離散化的調整工具"
      ]
    },
    {
      "cell_type": "markdown",
      "metadata": {
        "id": "YNsmuks3fn97"
      },
      "source": [
        "# [作業重點]\n",
        "- 仿照 In[3], In[4] 的語法, 並設定 pd.cut 的參數以指定間距"
      ]
    },
    {
      "cell_type": "code",
      "metadata": {
        "collapsed": true,
        "id": "7hVbl1pkfn99"
      },
      "source": [
        "# 載入套件\n",
        "import os\n",
        "import numpy as np\n",
        "import pandas as pd\n",
        "\n",
        "import matplotlib.pyplot as plt\n",
        "%matplotlib inline"
      ],
      "execution_count": 1,
      "outputs": []
    },
    {
      "cell_type": "code",
      "metadata": {
        "collapsed": true,
        "id": "ii0dvqVpfn99"
      },
      "source": [
        "# 初始設定 Ages 的資料\n",
        "ages = pd.DataFrame({\"age\": [18,22,25,27,7,21,23,37,30,61,45,41,9,18,80,100]})"
      ],
      "execution_count": 2,
      "outputs": []
    },
    {
      "cell_type": "markdown",
      "metadata": {
        "id": "HKz4M8Nxfn-E"
      },
      "source": [
        "#### 等寬劃分"
      ]
    },
    {
      "cell_type": "code",
      "metadata": {
        "collapsed": true,
        "id": "yyQkjYGpfn-E"
      },
      "source": [
        "# 新增欄位 \"equal_width_age\", 對年齡做等寬劃分\n",
        "ages[\"equal_width_age\"] = pd.cut(ages[\"age\"], 4)"
      ],
      "execution_count": null,
      "outputs": []
    },
    {
      "cell_type": "code",
      "metadata": {
        "id": "ssySpvS0fn-F",
        "outputId": "396d09b2-ef36-4769-80b0-2dc6df98e2d0"
      },
      "source": [
        "# 觀察等寬劃分下, 每個種組距各出現幾次\n",
        "ages[\"equal_width_age\"].value_counts() # 每個 bin 的值的範圍大小都是一樣的"
      ],
      "execution_count": null,
      "outputs": [
        {
          "output_type": "execute_result",
          "data": {
            "text/plain": [
              "(6.907, 30.25]    10\n",
              "(30.25, 53.5]      3\n",
              "(76.75, 100.0]     2\n",
              "(53.5, 76.75]      1\n",
              "Name: equal_width_age, dtype: int64"
            ]
          },
          "metadata": {
            "tags": []
          },
          "execution_count": 4
        }
      ]
    },
    {
      "cell_type": "markdown",
      "metadata": {
        "id": "xoFVxTBCfn-G"
      },
      "source": [
        "#### 等頻劃分"
      ]
    },
    {
      "cell_type": "code",
      "metadata": {
        "collapsed": true,
        "id": "-eVLGhdjfn-G"
      },
      "source": [
        "# 新增欄位 \"equal_freq_age\", 對年齡做等頻劃分\n",
        "ages[\"equal_freq_age\"] = pd.qcut(ages[\"age\"], 4)"
      ],
      "execution_count": null,
      "outputs": []
    },
    {
      "cell_type": "code",
      "metadata": {
        "id": "2tIv2blhfn-G",
        "outputId": "37f38fd9-48e2-41bf-e495-02f52d35a004"
      },
      "source": [
        "# 觀察等頻劃分下, 每個種組距各出現幾次\n",
        "ages[\"equal_freq_age\"].value_counts() # 每個 bin 的資料筆數是一樣的"
      ],
      "execution_count": null,
      "outputs": [
        {
          "output_type": "execute_result",
          "data": {
            "text/plain": [
              "(42.0, 100.0]     4\n",
              "(26.0, 42.0]      4\n",
              "(20.25, 26.0]     4\n",
              "(6.999, 20.25]    4\n",
              "Name: equal_freq_age, dtype: int64"
            ]
          },
          "metadata": {
            "tags": []
          },
          "execution_count": 6
        }
      ]
    },
    {
      "cell_type": "markdown",
      "metadata": {
        "id": "-UR_8Yg_gQdE"
      },
      "source": [
        "等寬劃分五組"
      ]
    },
    {
      "cell_type": "code",
      "metadata": {
        "colab": {
          "base_uri": "https://localhost:8080/"
        },
        "id": "rFupAtyhgVIh",
        "outputId": "4eb8cf2a-2ca8-4d04-c1fe-901986bdaf49"
      },
      "source": [
        "ages['customized_age_grp'] = pd.cut(ages[\"age\"],bins=[0,10,20,30,50])\r\n",
        "ages['customized_age_grp'].value_counts()"
      ],
      "execution_count": 11,
      "outputs": [
        {
          "output_type": "execute_result",
          "data": {
            "text/plain": [
              "(20, 30]    6\n",
              "(30, 50]    3\n",
              "(10, 20]    2\n",
              "(0, 10]     2\n",
              "Name: customized_age_grp, dtype: int64"
            ]
          },
          "metadata": {
            "tags": []
          },
          "execution_count": 11
        }
      ]
    },
    {
      "cell_type": "markdown",
      "metadata": {
        "id": "aKP6q4hth8kJ"
      },
      "source": [
        "等頻劃分五組"
      ]
    },
    {
      "cell_type": "code",
      "metadata": {
        "colab": {
          "base_uri": "https://localhost:8080/"
        },
        "id": "TY4QZLY7gxhf",
        "outputId": "5366e6ae-bd9d-4039-8be9-090b7bd6014c"
      },
      "source": [
        "ages['customized_age_grp'] = pd.qcut(ages[\"age\"],4)\r\n",
        "ages['customized_age_grp'].value_counts()"
      ],
      "execution_count": 14,
      "outputs": [
        {
          "output_type": "execute_result",
          "data": {
            "text/plain": [
              "(42.0, 100.0]     4\n",
              "(26.0, 42.0]      4\n",
              "(20.25, 26.0]     4\n",
              "(6.999, 20.25]    4\n",
              "Name: customized_age_grp, dtype: int64"
            ]
          },
          "metadata": {
            "tags": []
          },
          "execution_count": 14
        }
      ]
    },
    {
      "cell_type": "code",
      "metadata": {
        "id": "9DvCrqBIgzuE"
      },
      "source": [
        ""
      ],
      "execution_count": null,
      "outputs": []
    }
  ]
}