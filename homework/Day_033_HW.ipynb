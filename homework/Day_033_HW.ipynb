{
  "nbformat": 4,
  "nbformat_minor": 0,
  "metadata": {
    "kernelspec": {
      "display_name": "Python 3",
      "language": "python",
      "name": "python3"
    },
    "language_info": {
      "codemirror_mode": {
        "name": "ipython",
        "version": 3
      },
      "file_extension": ".py",
      "mimetype": "text/x-python",
      "name": "python",
      "nbconvert_exporter": "python",
      "pygments_lexer": "ipython3",
      "version": "3.6.2"
    },
    "colab": {
      "name": "Day_033_HW.ipynb",
      "provenance": []
    }
  },
  "cells": [
    {
      "cell_type": "markdown",
      "metadata": {
        "id": "0nYS_wisJeEo"
      },
      "source": [
        "## 練習時間"
      ]
    },
    {
      "cell_type": "markdown",
      "metadata": {
        "id": "e-JG9Ni5JeEx"
      },
      "source": [
        "請觀看李宏毅教授以神奇寶貝進化 CP 值預測的範例，解說何謂機器學習與過擬合。並回答以下問題"
      ]
    },
    {
      "cell_type": "markdown",
      "metadata": {
        "id": "nQ8hh8KUJeEz"
      },
      "source": [
        "[youtube](https://www.youtube.com/watch?v=fegAeph9UaA)"
      ]
    },
    {
      "cell_type": "markdown",
      "metadata": {
        "id": "CE9J160NJeE0"
      },
      "source": [
        "### 1. 模型的泛化能力 (generalization) 是指什麼？ \n",
        "### 2. 分類問題與回歸問題分別可用的目標函數有哪些？"
      ]
    },
    {
      "cell_type": "markdown",
      "metadata": {
        "id": "XJyyXrSfJyMV"
      },
      "source": [
        "機器學習是指透過大量的數據，從中學習到某個規則。過擬合則是指對於手邊擁有的資料都可以正確無誤的預測出結果，但是一遇到從未看過的資料就無法正確預測。舉例來說，給學生大量的練習，讓它們學到上課所教的東西，這就是機器學習。在指考前一直做模擬試題，都能得到好成績，但是指考出來的結果卻很糟，這就是過擬合。"
      ]
    },
    {
      "cell_type": "markdown",
      "metadata": {
        "id": "VGTBV4USLqdN"
      },
      "source": [
        "泛化能力指的是模型在面對未學過的數據時，仍可正確預測的能力。\n",
        "分類問題通常所使用的目標函數為MAE，而回歸則是使用MSE。"
      ]
    },
    {
      "cell_type": "code",
      "metadata": {
        "id": "2eY8gwfvMQTg"
      },
      "source": [
        ""
      ],
      "execution_count": null,
      "outputs": []
    }
  ]
}