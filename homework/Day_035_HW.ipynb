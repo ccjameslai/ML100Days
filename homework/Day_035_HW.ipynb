{
  "nbformat": 4,
  "nbformat_minor": 0,
  "metadata": {
    "kernelspec": {
      "display_name": "Python 3",
      "language": "python",
      "name": "python3"
    },
    "language_info": {
      "codemirror_mode": {
        "name": "ipython",
        "version": 3
      },
      "file_extension": ".py",
      "mimetype": "text/x-python",
      "name": "python",
      "nbconvert_exporter": "python",
      "pygments_lexer": "ipython3",
      "version": "3.6.3"
    },
    "colab": {
      "name": "Day_035_HW.ipynb",
      "provenance": [],
      "collapsed_sections": []
    }
  },
  "cells": [
    {
      "cell_type": "markdown",
      "metadata": {
        "id": "95aoJtJvxIsa"
      },
      "source": [
        "## 練習時間\n",
        "相信大家對回歸問題及分類問題都有初步的了解。今天的作業希望大家搜尋有關 multi-label 的案例問題。下圖是電影 \"奇異博士\" 的分類。可以看到同時有 \"Action\", \"Adventure\", \"Fantasy\" 的類別存在，代表這是個多標籤的問題。 "
      ]
    },
    {
      "cell_type": "markdown",
      "metadata": {
        "id": "jcfWoxMmxIse"
      },
      "source": [
        "![image](https://cdn-images-1.medium.com/max/1000/1*r0gYXMSQf5VhdMyl2bRDyg.png)"
      ]
    },
    {
      "cell_type": "markdown",
      "metadata": {
        "id": "i29cYziaxIsf"
      },
      "source": [
        "## 請搜尋目標為多標籤問題 (Multi-label) 的機器學習案例，了解其資料來源、目標以及評估指標為何\n",
        "## Hint: 服飾"
      ]
    },
    {
      "cell_type": "markdown",
      "metadata": {
        "id": "bCauiEHfy-ps"
      },
      "source": [
        "* https://towardsdatascience.com/journey-to-the-center-of-multi-label-classification-384c40229bff\n",
        "* 目標，是要預測未知文本擁有哪些類型的標籤\n",
        "* 評估指標，會去看被標錯的標籤比例"
      ]
    },
    {
      "cell_type": "code",
      "metadata": {
        "id": "0Ejag3i-zgRJ"
      },
      "source": [
        ""
      ],
      "execution_count": null,
      "outputs": []
    }
  ]
}